{
 "cells": [
  {
   "cell_type": "code",
   "execution_count": 1,
   "metadata": {},
   "outputs": [],
   "source": [
    "from langchain_openai import ChatOpenAI\n",
    "\n",
    "model = ChatOpenAI(\n",
    "    model=\"gpt-3.5-turbo\",\n",
    "    base_url=\"https://open.api.gu28.top/v1\",\n",
    "    max_tokens=300,\n",
    "    temperature=1.2,\n",
    "    frequency_penalty=1.5,\n",
    ")"
   ]
  },
  {
   "cell_type": "code",
   "execution_count": 2,
   "metadata": {},
   "outputs": [
    {
     "data": {
      "text/plain": [
       "AIMessage(content='波粒二象性是指微观粒子（比如电子、光子等）既表现出像波一样的特性，又表现出像粒子一样的特性。简单来说，有时候我们可以把这些微观粒子当作像波一样传播扩散，有时候又可以把它们想象成具有确定位置和动量的小颗粒。这种奇妙的行为挑战了我们对自然规律的直觉理解，但却被大量实验证实了存在。', additional_kwargs={'refusal': None}, response_metadata={'token_usage': {'completion_tokens': 162, 'prompt_tokens': 57, 'total_tokens': 219, 'completion_tokens_details': None, 'prompt_tokens_details': None}, 'model_name': 'gpt-35-turbo', 'system_fingerprint': 'fp_808245b034', 'finish_reason': 'stop', 'logprobs': None}, id='run-629a4334-86de-4057-beec-5440299a7aa5-0', usage_metadata={'input_tokens': 57, 'output_tokens': 162, 'total_tokens': 219, 'input_token_details': {}, 'output_token_details': {}})"
      ]
     },
     "execution_count": 2,
     "metadata": {},
     "output_type": "execute_result"
    }
   ],
   "source": [
    "from langchain.schema.messages import SystemMessage, HumanMessage\n",
    "\n",
    "messages = [\n",
    "    SystemMessage(content=\"请你作为我的物理课助教，用通俗易懂的语言解释物理概念。\"),\n",
    "    HumanMessage(content=\"什么是波粒二象性？\"),\n",
    "]\n",
    "\n",
    "response = model.invoke(messages)\n",
    "response"
   ]
  },
  {
   "cell_type": "code",
   "execution_count": 3,
   "metadata": {},
   "outputs": [
    {
     "name": "stdout",
     "output_type": "stream",
     "text": [
      "波粒二象性是指微观粒子（比如电子、光子等）既表现出像波一样的特性，又表现出像粒子一样的特性。简单来说，有时候我们可以把这些微观粒子当作像波一样传播扩散，有时候又可以把它们想象成具有确定位置和动量的小颗粒。这种奇妙的行为挑战了我们对自然规律的直觉理解，但却被大量实验证实了存在。\n"
     ]
    }
   ],
   "source": [
    "print(response.content)"
   ]
  }
 ],
 "metadata": {
  "kernelspec": {
   "display_name": "base",
   "language": "python",
   "name": "python3"
  },
  "language_info": {
   "codemirror_mode": {
    "name": "ipython",
    "version": 3
   },
   "file_extension": ".py",
   "mimetype": "text/x-python",
   "name": "python",
   "nbconvert_exporter": "python",
   "pygments_lexer": "ipython3",
   "version": "3.12.7"
  }
 },
 "nbformat": 4,
 "nbformat_minor": 2
}
