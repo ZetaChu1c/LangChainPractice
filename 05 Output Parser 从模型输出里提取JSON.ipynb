{
 "cells": [
  {
   "cell_type": "code",
   "execution_count": 1,
   "id": "1f36bfb4-6088-4d7d-a7c7-63a2c08c3cce",
   "metadata": {},
   "outputs": [],
   "source": [
    "from typing import List\n",
    "\n",
    "from langchain.output_parsers import PydanticOutputParser\n",
    "from langchain.prompts import ChatPromptTemplate\n",
    "from langchain.schema import HumanMessage\n",
    "from pydantic import BaseModel, Field, model_validator\n",
    "from langchain_openai import ChatOpenAI"
   ]
  },
  {
   "cell_type": "code",
   "execution_count": 2,
   "id": "ab39235b",
   "metadata": {},
   "outputs": [],
   "source": [
    "class BookInfo(BaseModel):\n",
    "    book_name: str = Field(description=\"书籍的名字\", example=\"百年孤独\")\n",
    "    author_name: str = Field(description=\"书籍的作者\", example=\"加西亚·马尔克斯\")\n",
    "    genres: List[str] = Field(description=\"书籍的体裁\", example=[\"小说\", \"文学\"])\n",
    "\n",
    "    # You can add custom validation logic easily with Pydantic.\n",
    "    # @model_validator(mode=\"before\")\n",
    "    # @classmethod\n",
    "    # def question_ends_with_question_mark(cls, values: dict) -> dict:\n",
    "    #     setup = values.get(\"setup\")\n",
    "    #     if setup and setup[-1] != \"?\":\n",
    "    #         raise ValueError(\"Badly formed question!\")\n",
    "    #     return values"
   ]
  },
  {
   "cell_type": "code",
   "execution_count": 3,
   "id": "bf903e96",
   "metadata": {},
   "outputs": [
    {
     "name": "stdout",
     "output_type": "stream",
     "text": [
      "The output should be formatted as a JSON instance that conforms to the JSON schema below.\n",
      "\n",
      "As an example, for the schema {\"properties\": {\"foo\": {\"title\": \"Foo\", \"description\": \"a list of strings\", \"type\": \"array\", \"items\": {\"type\": \"string\"}}}, \"required\": [\"foo\"]}\n",
      "the object {\"foo\": [\"bar\", \"baz\"]} is a well-formatted instance of the schema. The object {\"properties\": {\"foo\": [\"bar\", \"baz\"]}} is not well-formatted.\n",
      "\n",
      "Here is the output schema:\n",
      "```\n",
      "{\"properties\": {\"book_name\": {\"description\": \"书籍的名字\", \"example\": \"百年孤独\", \"title\": \"Book Name\", \"type\": \"string\"}, \"author_name\": {\"description\": \"书籍的作者\", \"example\": \"加西亚·马尔克斯\", \"title\": \"Author Name\", \"type\": \"string\"}, \"genres\": {\"description\": \"书籍的体裁\", \"example\": [\"小说\", \"文学\"], \"items\": {\"type\": \"string\"}, \"title\": \"Genres\", \"type\": \"array\"}}, \"required\": [\"book_name\", \"author_name\", \"genres\"]}\n",
      "```\n"
     ]
    }
   ],
   "source": [
    "output_parser = PydanticOutputParser(pydantic_object=BookInfo)\n",
    "print(output_parser.get_format_instructions())"
   ]
  },
  {
   "cell_type": "code",
   "execution_count": 4,
   "id": "e67f4129",
   "metadata": {},
   "outputs": [],
   "source": [
    "prompt = ChatPromptTemplate.from_messages(\n",
    "    [\n",
    "        (\"system\", \"{parser_instructions} 你输出的结果请使用中文。\"),\n",
    "        (\n",
    "            \"human\",\n",
    "            \"请你帮我从书籍概述中，提取书名、作者，以及书籍的体裁。书籍概述会被三个#符号包围。\\n###{book_introduction}###\",\n",
    "        ),\n",
    "    ]\n",
    ")"
   ]
  },
  {
   "cell_type": "code",
   "execution_count": 5,
   "id": "3ed2c638",
   "metadata": {},
   "outputs": [],
   "source": [
    "book_introduction = \"\"\"《明朝那些事儿》，作者是当年明月。2006年3月在天涯社区首次发表，2009年3月21日连载完毕，边写作边集结成书出版发行，一共7本。\n",
    "《明朝那些事儿》主要讲述的是从1344年到1644年这三百年间关于明朝的一些故事。以史料为基础，以年代和具体人物为主线，并加入了小说的笔法，语言幽默风趣。对明朝十六帝和其他王公权贵和小人物的命运进行全景展示，尤其对官场政治、战争、帝王心术着墨最多，并加入对当时政治经济制度、人伦道德的演义。\n",
    "它以一种网络语言向读者娓娓道出三百多年关于明朝的历史故事、人物。其中原本在历史中陌生、模糊的历史人物在书中一个个变得鲜活起来。《明朝那些事儿》为读者解读历史中的另一面，让历史变成一部活生生的生活故事。\n",
    "\"\"\"\n",
    "final_prompt = prompt.invoke(\n",
    "    {\n",
    "        \"book_introduction\": book_introduction,\n",
    "        \"parser_instructions\": output_parser.get_format_instructions(),\n",
    "    }\n",
    ")"
   ]
  },
  {
   "cell_type": "code",
   "execution_count": 6,
   "id": "8ab00da8",
   "metadata": {},
   "outputs": [
    {
     "name": "stdout",
     "output_type": "stream",
     "text": [
      "```json\n",
      "{\n",
      "    \"book_name\": \"明朝那些事儿\",\n",
      "    \"author_name\": \"当年明月\",\n",
      "    \"genres\": [\"历史\", \"小说\"]\n",
      "}\n",
      "```\n"
     ]
    }
   ],
   "source": [
    "model = ChatOpenAI(\n",
    "    model=\"gpt-3.5-turbo\",\n",
    "    base_url=\"https://open.api.gu28.top/v1\",\n",
    ")\n",
    "response = model.invoke(final_prompt)\n",
    "print(response.content)"
   ]
  },
  {
   "cell_type": "code",
   "execution_count": 7,
   "id": "ee6e5c6c",
   "metadata": {},
   "outputs": [
    {
     "data": {
      "text/plain": [
       "BookInfo(book_name='明朝那些事儿', author_name='当年明月', genres=['历史', '小说'])"
      ]
     },
     "execution_count": 7,
     "metadata": {},
     "output_type": "execute_result"
    }
   ],
   "source": [
    "result = output_parser.invoke(response)\n",
    "result"
   ]
  },
  {
   "cell_type": "code",
   "execution_count": 8,
   "id": "7d21a450",
   "metadata": {},
   "outputs": [
    {
     "data": {
      "text/plain": [
       "'明朝那些事儿'"
      ]
     },
     "execution_count": 8,
     "metadata": {},
     "output_type": "execute_result"
    }
   ],
   "source": [
    "result.book_name"
   ]
  },
  {
   "cell_type": "code",
   "execution_count": 9,
   "id": "888d7508",
   "metadata": {},
   "outputs": [
    {
     "data": {
      "text/plain": [
       "['历史', '小说']"
      ]
     },
     "execution_count": 9,
     "metadata": {},
     "output_type": "execute_result"
    }
   ],
   "source": [
    "result.genres"
   ]
  }
 ],
 "metadata": {
  "kernelspec": {
   "display_name": "base",
   "language": "python",
   "name": "python3"
  },
  "language_info": {
   "codemirror_mode": {
    "name": "ipython",
    "version": 3
   },
   "file_extension": ".py",
   "mimetype": "text/x-python",
   "name": "python",
   "nbconvert_exporter": "python",
   "pygments_lexer": "ipython3",
   "version": "3.12.7"
  }
 },
 "nbformat": 4,
 "nbformat_minor": 5
}
