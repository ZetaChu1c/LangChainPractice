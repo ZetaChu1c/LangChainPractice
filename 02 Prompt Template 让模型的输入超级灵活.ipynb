{
 "cells": [
  {
   "cell_type": "code",
   "execution_count": 16,
   "metadata": {},
   "outputs": [],
   "source": [
    "from langchain.prompts import (\n",
    "    SystemMessagePromptTemplate,\n",
    "    HumanMessagePromptTemplate,\n",
    "    AIMessagePromptTemplate,\n",
    ")\n",
    "\n",
    "system_template_text = \"你是一位专业的翻译，能够将{input_language}翻译成{output_language}，并且输出文本会根据用户要求的任何语言风格进行调整。请只输出翻译后的文本，不要有其他任何内容。\"\n",
    "system_prompt_template = SystemMessagePromptTemplate.from_template(system_template_text)\n",
    "\n",
    "human_template_text = \"文本：{text}\\n语言风格：{style}\"\n",
    "human_prompt_template = HumanMessagePromptTemplate.from_template(human_template_text)"
   ]
  },
  {
   "cell_type": "code",
   "execution_count": 17,
   "metadata": {},
   "outputs": [
    {
     "data": {
      "text/plain": [
       "SystemMessage(content='你是一位专业的翻译，能够将英语翻译成汉语，并且输出文本会根据用户要求的任何语言风格进行调整。请只输出翻译后的文本，不要有其他任何内容。', additional_kwargs={}, response_metadata={})"
      ]
     },
     "execution_count": 17,
     "metadata": {},
     "output_type": "execute_result"
    }
   ],
   "source": [
    "system_prompt = system_prompt_template.format(\n",
    "    input_language=\"英语\", output_language=\"汉语\"\n",
    ")\n",
    "system_prompt"
   ]
  },
  {
   "cell_type": "code",
   "execution_count": 18,
   "metadata": {},
   "outputs": [
    {
     "data": {
      "text/plain": [
       "HumanMessage(content=\"文本：I'm so hungury I could eat a horse.\\n语言风格：文言文\", additional_kwargs={}, response_metadata={})"
      ]
     },
     "execution_count": 18,
     "metadata": {},
     "output_type": "execute_result"
    }
   ],
   "source": [
    "\n",
    "human_prompt = human_prompt_template.format(\n",
    "    text=\"I'm so hungury I could eat a horse.\", style=\"文言文\"\n",
    ")\n",
    "human_prompt"
   ]
  },
  {
   "cell_type": "code",
   "execution_count": 19,
   "metadata": {},
   "outputs": [],
   "source": [
    "from langchain_openai import ChatOpenAI\n",
    "\n",
    "model = ChatOpenAI(\n",
    "    model=\"gpt-3.5-turbo\",\n",
    "    base_url=\"https://open.api.gu28.top/v1\",\n",
    ")\n",
    "\n",
    "# response = model.invoke([system_prompt, human_prompt])"
   ]
  },
  {
   "cell_type": "code",
   "execution_count": 20,
   "metadata": {},
   "outputs": [],
   "source": [
    "# print(response.content)"
   ]
  },
  {
   "cell_type": "code",
   "execution_count": 21,
   "metadata": {},
   "outputs": [],
   "source": [
    "input_variables = [\n",
    "    {\n",
    "        \"input_language\": \"英语\",\n",
    "        \"output_language\": \"汉语\",\n",
    "        \"text\": \"I'm so hungry I could eat a horse\",\n",
    "        \"style\": \"文言文\"\n",
    "    },\n",
    "    {\n",
    "        \"input_language\": \"法语\",\n",
    "        \"output_language\": \"英语\",\n",
    "        \"text\": \"Je suis désolé pour ce que tu as fait\",\n",
    "        \"style\": \"古英语\"\n",
    "    },\n",
    "    {\n",
    "        \"input_language\": \"俄语\",\n",
    "        \"output_language\": \"意大利语\",\n",
    "        \"text\": \"Сегодня отличная погода\",\n",
    "        \"style\": \"网络用语\"\n",
    "    },\n",
    "    {\n",
    "        \"input_language\": \"韩语\",\n",
    "        \"output_language\": \"日语\",\n",
    "        \"text\": \"너 정말 짜증나\",\n",
    "        \"style\": \"口语\"\n",
    "    }\n",
    "]"
   ]
  },
  {
   "cell_type": "code",
   "execution_count": 24,
   "metadata": {},
   "outputs": [
    {
     "name": "stdout",
     "output_type": "stream",
     "text": [
      "吾今飢甚，當能食馬。\n",
      "I am sorry for what thou hast done.\n",
      "Oggi il tempo è fantastico\n",
      "お前、本当にイラつくな。\n"
     ]
    }
   ],
   "source": [
    "for input in input_variables:\n",
    "    response = model.invoke(\n",
    "        [\n",
    "            system_prompt_template.format(\n",
    "                input_language=input[\"input_language\"],\n",
    "                output_language=input[\"output_language\"],\n",
    "            ),\n",
    "            human_prompt_template.format(\n",
    "                text=input[\"text\"],\n",
    "                style=input[\"style\"],\n",
    "            ),\n",
    "        ]\n",
    "    )\n",
    "    print(response.content)"
   ]
  },
  {
   "cell_type": "code",
   "execution_count": 28,
   "metadata": {},
   "outputs": [],
   "source": [
    "from langchain.prompts import ChatPromptTemplate"
   ]
  },
  {
   "cell_type": "code",
   "execution_count": 37,
   "metadata": {},
   "outputs": [],
   "source": [
    "prompt_template = ChatPromptTemplate.from_messages(\n",
    "    [\n",
    "        (\n",
    "            \"system\",\n",
    "            \"你是一位专业的翻译，能够将{input_language}翻译成{output_language}，并且输出文本会根据用户要求的任何语言风格进行调整。请只输出翻译后的文本，不要有任何其它内容。\",\n",
    "        ),\n",
    "        (\"human\", \"文本：{text}\\n语言风格：{style}\"),\n",
    "    ]\n",
    ")"
   ]
  },
  {
   "cell_type": "code",
   "execution_count": 38,
   "metadata": {},
   "outputs": [
    {
     "data": {
      "text/plain": [
       "['input_language', 'output_language', 'style', 'text']"
      ]
     },
     "execution_count": 38,
     "metadata": {},
     "output_type": "execute_result"
    }
   ],
   "source": [
    "prompt_template.input_variables"
   ]
  },
  {
   "cell_type": "code",
   "execution_count": 39,
   "metadata": {},
   "outputs": [
    {
     "data": {
      "text/plain": [
       "ChatPromptValue(messages=[SystemMessage(content='你是一位专业的翻译，能够将英语翻译成汉语，并且输出文本会根据用户要求的任何语言风格进行调整。请只输出翻译后的文本，不要有任何其它内容。', additional_kwargs={}, response_metadata={}), HumanMessage(content=\"文本：I'm so hungry I could eat a horse\\n语言风格：文言文\", additional_kwargs={}, response_metadata={})])"
      ]
     },
     "execution_count": 39,
     "metadata": {},
     "output_type": "execute_result"
    }
   ],
   "source": [
    "prompt_value = prompt_template.invoke(\n",
    "    {\n",
    "        \"input_language\": \"英语\",\n",
    "        \"output_language\": \"汉语\",\n",
    "        \"text\": \"I'm so hungry I could eat a horse\",\n",
    "        \"style\": \"文言文\",\n",
    "    }\n",
    ")\n",
    "\n",
    "prompt_value"
   ]
  },
  {
   "cell_type": "code",
   "execution_count": 40,
   "metadata": {},
   "outputs": [
    {
     "data": {
      "text/plain": [
       "[SystemMessage(content='你是一位专业的翻译，能够将英语翻译成汉语，并且输出文本会根据用户要求的任何语言风格进行调整。请只输出翻译后的文本，不要有任何其它内容。', additional_kwargs={}, response_metadata={}),\n",
       " HumanMessage(content=\"文本：I'm so hungry I could eat a horse\\n语言风格：文言文\", additional_kwargs={}, response_metadata={})]"
      ]
     },
     "execution_count": 40,
     "metadata": {},
     "output_type": "execute_result"
    }
   ],
   "source": [
    "prompt_value.messages"
   ]
  },
  {
   "cell_type": "code",
   "execution_count": 41,
   "metadata": {},
   "outputs": [
    {
     "data": {
      "text/plain": [
       "AIMessage(content='吾今飢甚，當能食馬也。', additional_kwargs={'refusal': None}, response_metadata={'token_usage': {'completion_tokens': 17, 'prompt_tokens': 109, 'total_tokens': 126, 'completion_tokens_details': None, 'prompt_tokens_details': None}, 'model_name': 'gpt-35-turbo', 'system_fingerprint': 'fp_808245b034', 'finish_reason': 'stop', 'logprobs': None}, id='run-cc3614ff-d3a4-4c82-95da-132eab0d9161-0', usage_metadata={'input_tokens': 109, 'output_tokens': 17, 'total_tokens': 126, 'input_token_details': {}, 'output_token_details': {}})"
      ]
     },
     "execution_count": 41,
     "metadata": {},
     "output_type": "execute_result"
    }
   ],
   "source": [
    "response = model.invoke(prompt_value)\n",
    "\n",
    "response"
   ]
  },
  {
   "cell_type": "code",
   "execution_count": null,
   "metadata": {},
   "outputs": [],
   "source": [
    "input_variables = [\n",
    "    {\n",
    "        \"input_language\": \"英语\",\n",
    "        \"output_language\": \"汉语\",\n",
    "        \"text\": \"I'm so hungry I could eat a horse\",\n",
    "        \"style\": \"文言文\"\n",
    "    },\n",
    "    {\n",
    "        \"input_language\": \"法语\",\n",
    "        \"output_language\": \"英语\",\n",
    "        \"text\": \"Je suis désolé pour ce que tu as fait\",\n",
    "        \"style\": \"古英语\"\n",
    "    },\n",
    "    {\n",
    "        \"input_language\": \"俄语\",\n",
    "        \"output_language\": \"意大利语\",\n",
    "        \"text\": \"Сегодня отличная погода\",\n",
    "        \"style\": \"网络用语\"\n",
    "    },\n",
    "    {\n",
    "        \"input_language\": \"韩语\",\n",
    "        \"output_language\": \"日语\",\n",
    "        \"text\": \"너 정말 짜증나\",\n",
    "        \"style\": \"口语\"\n",
    "    }\n",
    "]"
   ]
  },
  {
   "cell_type": "code",
   "execution_count": 42,
   "metadata": {},
   "outputs": [
    {
     "name": "stdout",
     "output_type": "stream",
     "text": [
      "吾今飢極矣，欲食馬也。\n",
      "I am sorry for what thou hast done.\n",
      "Oggi il tempo è fantastico.\n",
      "お前、マジでイライラするな。\n"
     ]
    }
   ],
   "source": [
    "for input in input_variables:\n",
    "    response = model.invoke(\n",
    "        prompt_template.invoke(\n",
    "            {\n",
    "                \"input_language\": input[\"input_language\"],\n",
    "                \"output_language\": input[\"output_language\"],\n",
    "                \"text\": input[\"text\"],\n",
    "                \"style\": input[\"style\"],\n",
    "            }\n",
    "        )\n",
    "    )\n",
    "    print(response.content)"
   ]
  }
 ],
 "metadata": {
  "kernelspec": {
   "display_name": "base",
   "language": "python",
   "name": "python3"
  },
  "language_info": {
   "codemirror_mode": {
    "name": "ipython",
    "version": 3
   },
   "file_extension": ".py",
   "mimetype": "text/x-python",
   "name": "python",
   "nbconvert_exporter": "python",
   "pygments_lexer": "ipython3",
   "version": "3.12.4"
  }
 },
 "nbformat": 4,
 "nbformat_minor": 2
}
